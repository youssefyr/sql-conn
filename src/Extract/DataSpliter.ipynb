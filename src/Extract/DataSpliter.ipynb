{
 "cells": [
  {
   "cell_type": "code",
   "execution_count": 1,
   "id": "12926ef2-0a4d-40e7-b49a-55393cd057bd",
   "metadata": {},
   "outputs": [],
   "source": [
    "import pandas"
   ]
  },
  {
   "cell_type": "markdown",
   "id": "d08b667e",
   "metadata": {},
   "source": [
    "### Using magic commands to get the dir the file is in"
   ]
  },
  {
   "cell_type": "code",
   "execution_count": 2,
   "id": "b6539cb4",
   "metadata": {},
   "outputs": [],
   "source": [
    "basepath = %pwd"
   ]
  },
  {
   "cell_type": "markdown",
   "id": "c80d89e1",
   "metadata": {},
   "source": [
    "### import dataset\n"
   ]
  },
  {
   "cell_type": "code",
   "execution_count": 3,
   "id": "36e68738-3373-4840-8d91-c873e56cf2e0",
   "metadata": {
    "editable": true,
    "slideshow": {
     "slide_type": ""
    },
    "tags": []
   },
   "outputs": [],
   "source": [
    "baseCsv = pandas.read_csv(basepath + '/raw/crash_data.csv', sep=',', index_col=False, low_memory=False)"
   ]
  },
  {
   "cell_type": "markdown",
   "id": "5d9b9185",
   "metadata": {},
   "source": [
    "### Make Report Number Unique"
   ]
  },
  {
   "cell_type": "code",
   "execution_count": 16,
   "id": "4c34fd8d-fd47-4c25-b468-0c480b6f011a",
   "metadata": {},
   "outputs": [],
   "source": [
    "baseCsv['Report Number'] = baseCsv['Report Number'].astype(str).str.strip()\n",
    "baseCsv = baseCsv.drop_duplicates(subset=['Report Number'], keep='first').reset_index(drop=True)\n"
   ]
  },
  {
   "cell_type": "markdown",
   "id": "52b5f0dc",
   "metadata": {},
   "source": [
    "Get Null precentage for each colum in the dataset"
   ]
  },
  {
   "cell_type": "code",
   "execution_count": 17,
   "id": "faaf8081",
   "metadata": {},
   "outputs": [
    {
     "data": {
      "text/plain": [
       "Report Number                      0.000000\n",
       "Local Case Number                  0.000000\n",
       "Agency Name                        0.000000\n",
       "ACRS Report Type                   0.000000\n",
       "Crash Date/Time                    0.000000\n",
       "Route Type                        13.114585\n",
       "Road Name                         12.429017\n",
       "Cross-Street Type                 13.134202\n",
       "Cross-Street Name                 12.439342\n",
       "Off-Road Description              87.573048\n",
       "Municipality                      89.217792\n",
       "Related Non-Motorist              94.540236\n",
       "Collision Type                     0.504884\n",
       "Weather                            8.102918\n",
       "Surface Condition                 14.803725\n",
       "Light                              0.825986\n",
       "Traffic Control                   16.703492\n",
       "Driver Substance Abuse            18.020939\n",
       "Non-Motorist Substance Abuse      95.674933\n",
       "Person ID                          0.000000\n",
       "Driver At Fault                    0.000000\n",
       "Injury Severity                    0.000000\n",
       "Circumstance                      81.286266\n",
       "Driver Distracted By               0.000000\n",
       "Drivers License State              7.114833\n",
       "Vehicle ID                         0.000000\n",
       "Vehicle Damage Extent              0.205464\n",
       "Vehicle First Impact Location      0.092923\n",
       "Vehicle Second Impact Location     0.144547\n",
       "Vehicle Body Type                  1.906994\n",
       "Vehicle Movement                   0.246763\n",
       "Vehicle Continuing Dir             1.475417\n",
       "Vehicle Going Dir                  1.475417\n",
       "Speed Limit                        0.000000\n",
       "Driverless Vehicle                 0.000000\n",
       "Parked Vehicle                     0.000000\n",
       "Vehicle Year                       0.000000\n",
       "Vehicle Make                       0.017552\n",
       "Vehicle Model                      0.036137\n",
       "Equipment Problems                19.681170\n",
       "Latitude                           0.000000\n",
       "Longitude                          0.000000\n",
       "Location                           0.000000\n",
       "dtype: float64"
      ]
     },
     "execution_count": 17,
     "metadata": {},
     "output_type": "execute_result"
    }
   ],
   "source": [
    "NullPrecentage = baseCsv.isnull().sum() * 100 / len(baseCsv)\n",
    "NullPrecentage"
   ]
  },
  {
   "cell_type": "markdown",
   "id": "58512cbb",
   "metadata": {},
   "source": [
    "# Removing Colums with more than 60% Null Values\n",
    "## Following the Business Model"
   ]
  },
  {
   "cell_type": "code",
   "execution_count": 18,
   "id": "a29392a5",
   "metadata": {},
   "outputs": [
    {
     "data": {
      "text/plain": [
       "Report Number                      object\n",
       "Local Case Number                  object\n",
       "Agency Name                        object\n",
       "ACRS Report Type                   object\n",
       "Crash Date/Time                    object\n",
       "Route Type                         object\n",
       "Road Name                          object\n",
       "Cross-Street Type                  object\n",
       "Cross-Street Name                  object\n",
       "Collision Type                     object\n",
       "Weather                            object\n",
       "Surface Condition                  object\n",
       "Light                              object\n",
       "Traffic Control                    object\n",
       "Driver Substance Abuse             object\n",
       "Person ID                          object\n",
       "Driver At Fault                    object\n",
       "Injury Severity                    object\n",
       "Driver Distracted By               object\n",
       "Drivers License State              object\n",
       "Vehicle ID                         object\n",
       "Vehicle Damage Extent              object\n",
       "Vehicle First Impact Location      object\n",
       "Vehicle Second Impact Location     object\n",
       "Vehicle Body Type                  object\n",
       "Vehicle Movement                   object\n",
       "Vehicle Continuing Dir             object\n",
       "Vehicle Going Dir                  object\n",
       "Speed Limit                         int64\n",
       "Driverless Vehicle                 object\n",
       "Parked Vehicle                     object\n",
       "Vehicle Year                        int64\n",
       "Vehicle Make                       object\n",
       "Vehicle Model                      object\n",
       "Equipment Problems                 object\n",
       "Latitude                          float64\n",
       "Longitude                         float64\n",
       "Location                           object\n",
       "dtype: object"
      ]
     },
     "execution_count": 18,
     "metadata": {},
     "output_type": "execute_result"
    }
   ],
   "source": [
    "ColumnsToDrop = NullPrecentage[NullPrecentage > 60].index\n",
    "if not ColumnsToDrop.empty:\n",
    " baseCsv = baseCsv.drop(ColumnsToDrop, axis=1)\n",
    "baseCsv.dtypes"
   ]
  },
  {
   "cell_type": "code",
   "execution_count": 19,
   "id": "160637de-22a9-4fe2-855a-878dc7a1c647",
   "metadata": {},
   "outputs": [
    {
     "data": {
      "text/plain": [
       "Report Number                         0\n",
       "Local Case Number                     0\n",
       "Agency Name                           0\n",
       "ACRS Report Type                      0\n",
       "Crash Date/Time                       0\n",
       "Route Type                        12702\n",
       "Road Name                         12038\n",
       "Cross-Street Type                 12721\n",
       "Cross-Street Name                 12048\n",
       "Collision Type                      489\n",
       "Weather                            7848\n",
       "Surface Condition                 14338\n",
       "Light                               800\n",
       "Traffic Control                   16178\n",
       "Driver Substance Abuse            17454\n",
       "Person ID                             0\n",
       "Driver At Fault                       0\n",
       "Injury Severity                       0\n",
       "Driver Distracted By                  0\n",
       "Drivers License State              6891\n",
       "Vehicle ID                            0\n",
       "Vehicle Damage Extent               199\n",
       "Vehicle First Impact Location        90\n",
       "Vehicle Second Impact Location      140\n",
       "Vehicle Body Type                  1847\n",
       "Vehicle Movement                    239\n",
       "Vehicle Continuing Dir             1429\n",
       "Vehicle Going Dir                  1429\n",
       "Speed Limit                           0\n",
       "Driverless Vehicle                    0\n",
       "Parked Vehicle                        0\n",
       "Vehicle Year                          0\n",
       "Vehicle Make                         17\n",
       "Vehicle Model                        35\n",
       "Equipment Problems                19062\n",
       "Latitude                              0\n",
       "Longitude                             0\n",
       "Location                              0\n",
       "dtype: int64"
      ]
     },
     "execution_count": 19,
     "metadata": {},
     "output_type": "execute_result"
    }
   ],
   "source": [
    "baseCsv.isnull().sum()"
   ]
  },
  {
   "cell_type": "markdown",
   "id": "cb1fd61c",
   "metadata": {},
   "source": [
    "# Removing `Yes,No,Nulls` into valid Boolean for use\n",
    "## Replacing `Nulls` in the rest with the most frequent value found in that column "
   ]
  },
  {
   "cell_type": "code",
   "execution_count": 20,
   "id": "872151dd",
   "metadata": {},
   "outputs": [
    {
     "name": "stderr",
     "output_type": "stream",
     "text": [
      "/tmp/ipykernel_43078/809176932.py:2: FutureWarning: Downcasting behavior in `replace` is deprecated and will be removed in a future version. To retain the old behavior, explicitly call `result.infer_objects(copy=False)`. To opt-in to the future behavior, set `pd.set_option('future.no_silent_downcasting', True)`\n",
      "  baseCsv['Driverless Vehicle'] = baseCsv['Driverless Vehicle'].replace({\n",
      "/tmp/ipykernel_43078/809176932.py:9: FutureWarning: Downcasting behavior in `replace` is deprecated and will be removed in a future version. To retain the old behavior, explicitly call `result.infer_objects(copy=False)`. To opt-in to the future behavior, set `pd.set_option('future.no_silent_downcasting', True)`\n",
      "  baseCsv['Parked Vehicle'] = baseCsv['Parked Vehicle'].replace({\n",
      "/tmp/ipykernel_43078/809176932.py:23: FutureWarning: Downcasting behavior in `replace` is deprecated and will be removed in a future version. To retain the old behavior, explicitly call `result.infer_objects(copy=False)`. To opt-in to the future behavior, set `pd.set_option('future.no_silent_downcasting', True)`\n",
      "  baseCsv['Driver At Fault'] = baseCsv['Driver At Fault'].replace({\n"
     ]
    }
   ],
   "source": [
    "baseCsv['Driverless Vehicle'] = baseCsv['Driverless Vehicle'].str.lower()\n",
    "baseCsv['Driverless Vehicle'] = baseCsv['Driverless Vehicle'].replace({\n",
    "    'yes': True,\n",
    "    'no': False,\n",
    "    'unknown': False\n",
    "})\n",
    "\n",
    "baseCsv['Parked Vehicle'] = baseCsv['Parked Vehicle'].str.lower()\n",
    "baseCsv['Parked Vehicle'] = baseCsv['Parked Vehicle'].replace({\n",
    "    'yes': True,\n",
    "    'no': False,\n",
    "    'unknown': False\n",
    "})\n",
    "\n",
    "baseCsv['Driver Substance Abuse'] = baseCsv['Driver Substance Abuse'].str.lower()\n",
    "baseCsv['Driver Substance Abuse'] = baseCsv['Driver Substance Abuse'].replace({\n",
    "    'yes': True,\n",
    "    'no': False,\n",
    "    'unknown': False\n",
    "})\n",
    "\n",
    "baseCsv['Driver At Fault'] = baseCsv['Driver At Fault'].str.lower()\n",
    "baseCsv['Driver At Fault'] = baseCsv['Driver At Fault'].replace({\n",
    "    'yes': True,\n",
    "    'no': False,\n",
    "    'unknown': False\n",
    "}).astype('boolean')\n",
    "\n",
    "baseCsv = baseCsv.apply(\n",
    "    lambda col: col.fillna(\n",
    "        col.loc[\n",
    "            ~col.str.lower().isin(['unknown', 'n/a'])\n",
    "        ].mode()[0] if col.dropna().size > 0 and not col.loc[\n",
    "            ~col.str.lower().isin(['unknown', 'n/a'])\n",
    "        ].mode().empty else col.fillna('N/A')\n",
    "    ) \n",
    "    if col.dtype == 'object' else col.fillna(0), \n",
    "    axis=0\n",
    ")"
   ]
  },
  {
   "cell_type": "code",
   "execution_count": 21,
   "id": "c339e6b5",
   "metadata": {},
   "outputs": [
    {
     "data": {
      "text/plain": [
       "Report Number                     0\n",
       "Local Case Number                 0\n",
       "Agency Name                       0\n",
       "ACRS Report Type                  0\n",
       "Crash Date/Time                   0\n",
       "Route Type                        0\n",
       "Road Name                         0\n",
       "Cross-Street Type                 0\n",
       "Cross-Street Name                 0\n",
       "Collision Type                    0\n",
       "Weather                           0\n",
       "Surface Condition                 0\n",
       "Light                             0\n",
       "Traffic Control                   0\n",
       "Driver Substance Abuse            0\n",
       "Person ID                         0\n",
       "Driver At Fault                   0\n",
       "Injury Severity                   0\n",
       "Driver Distracted By              0\n",
       "Drivers License State             0\n",
       "Vehicle ID                        0\n",
       "Vehicle Damage Extent             0\n",
       "Vehicle First Impact Location     0\n",
       "Vehicle Second Impact Location    0\n",
       "Vehicle Body Type                 0\n",
       "Vehicle Movement                  0\n",
       "Vehicle Continuing Dir            0\n",
       "Vehicle Going Dir                 0\n",
       "Speed Limit                       0\n",
       "Driverless Vehicle                0\n",
       "Parked Vehicle                    0\n",
       "Vehicle Year                      0\n",
       "Vehicle Make                      0\n",
       "Vehicle Model                     0\n",
       "Equipment Problems                0\n",
       "Latitude                          0\n",
       "Longitude                         0\n",
       "Location                          0\n",
       "dtype: int64"
      ]
     },
     "execution_count": 21,
     "metadata": {},
     "output_type": "execute_result"
    }
   ],
   "source": [
    "baseCsv.isnull().sum()"
   ]
  },
  {
   "cell_type": "markdown",
   "id": "0bbd8017",
   "metadata": {},
   "source": [
    "### Split the dataset into 5 small ones"
   ]
  },
  {
   "cell_type": "code",
   "execution_count": 22,
   "id": "457a5807-f93e-4e53-9c6e-b2bd5d23c616",
   "metadata": {},
   "outputs": [],
   "source": [
    "# Group 1: Report and Case Information\n",
    "df_report_case = baseCsv[['Report Number', 'Local Case Number', 'Agency Name', \"ACRS Report Type\", \"Crash Date/Time\", 'Location']]\n",
    "df_report_case.insert(0, 'id', range(1, 1 + len(df_report_case)))\n",
    "\n",
    "# Group 2: Road and Location Information \n",
    "df_road_location = baseCsv[['Route Type', 'Road Name', \n",
    "                       'Cross-Street Name', 'Latitude', 'Longitude']]\n",
    "df_road_location.insert(0, 'id', range(1, 1 + len(df_road_location)))\n",
    "\n",
    "\n",
    "# Group 3: Vehicle Information \n",
    "df_vehicle = baseCsv[['Vehicle ID', 'Vehicle Damage Extent', \n",
    "                 'Vehicle First Impact Location', 'Vehicle Second Impact Location', \n",
    "                 'Vehicle Body Type', 'Vehicle Movement', 'Vehicle Continuing Dir', \n",
    "                 'Vehicle Going Dir', 'Speed Limit', 'Driverless Vehicle', \n",
    "                 'Parked Vehicle', 'Vehicle Year', 'Vehicle Make', 'Vehicle Model', \n",
    "                 'Equipment Problems']]\n",
    "df_vehicle.insert(0, 'id', range(1, 1 + len(df_vehicle)))\n",
    "\n",
    "# Group 4: Driver and Person Information\n",
    "df_driver_person = baseCsv[['Person ID', 'Driver At Fault', \n",
    "                       'Driver Substance Abuse', 'Driver Distracted By', \n",
    "                       'Drivers License State']]\n",
    "df_driver_person.insert(0, 'id', range(1, 1 + len(df_driver_person)))\n",
    "\n",
    "\n",
    "# Group 5: Incident Details \n",
    "df_incident_details = baseCsv[['Collision Type', 'Weather', 'Surface Condition', \n",
    "                          'Light', 'Traffic Control', 'Injury Severity']]\n",
    "df_incident_details.insert(0, 'id', range(1, 1 + len(df_incident_details)))\n"
   ]
  },
  {
   "cell_type": "markdown",
   "id": "2342e1e0",
   "metadata": {},
   "source": [
    "### Save the split datasets "
   ]
  },
  {
   "cell_type": "code",
   "execution_count": 23,
   "id": "a56c1d9e-1140-469d-8f13-67d0de09c2f9",
   "metadata": {},
   "outputs": [],
   "source": [
    "df_report_case.to_csv(basepath + '/loaded/report_case.csv', index=False)\n",
    "df_road_location.to_csv(basepath + '/loaded/road_location.csv', index=False)\n",
    "df_vehicle.to_csv(basepath + '/loaded/vehicle.csv', index=False)\n",
    "df_driver_person.to_csv(basepath + '/loaded/driver_person.txt', sep=',', index=False, header=True)\n",
    "df_incident_details.to_csv(basepath + '/loaded/incident_details.txt', sep=',', index=False, header=True)"
   ]
  }
 ],
 "metadata": {
  "kernelspec": {
   "display_name": "Python 3 (ipykernel)",
   "language": "python",
   "name": "python3"
  },
  "language_info": {
   "codemirror_mode": {
    "name": "ipython",
    "version": 3
   },
   "file_extension": ".py",
   "mimetype": "text/x-python",
   "name": "python",
   "nbconvert_exporter": "python",
   "pygments_lexer": "ipython3",
   "version": "3.12.2"
  }
 },
 "nbformat": 4,
 "nbformat_minor": 5
}
